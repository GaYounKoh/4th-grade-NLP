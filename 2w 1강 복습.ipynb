{
 "cells": [
  {
   "cell_type": "code",
   "execution_count": 1,
   "metadata": {},
   "outputs": [],
   "source": [
    "import sys\n",
    "sys.path.append('..')\n",
    "import os\n",
    "from common.np import *"
   ]
  },
  {
   "cell_type": "code",
   "execution_count": 2,
   "metadata": {},
   "outputs": [
    {
     "data": {
      "text/plain": [
       "['the',\n",
       " 'sky',\n",
       " 'is',\n",
       " 'blue',\n",
       " 'and',\n",
       " 'the',\n",
       " 'sky',\n",
       " 'is',\n",
       " 'very',\n",
       " 'beutiful',\n",
       " 'today',\n",
       " '.']"
      ]
     },
     "execution_count": 2,
     "metadata": {},
     "output_type": "execute_result"
    }
   ],
   "source": [
    "# 전처리 (컴퓨터가 이해할 수 있는 단어로 바꾸기 위한 밑밥)\n",
    "text = 'The sky is blue and the sky is very beutiful today.'\n",
    "text = text.lower() # large The, small the 똑같은 단어라고 인식하게끔 소문자로 만드는 전처리.\n",
    "text = text.replace('.', ' .') # .도 하나의 단어로 인식하게끔 dot 앞에 blank 주는 전처리\n",
    "words = text.split(' ')\n",
    "words"
   ]
  },
  {
   "cell_type": "code",
   "execution_count": null,
   "metadata": {},
   "outputs": [],
   "source": [
    "# word: 사람이 사용하는 언어\n",
    "# id: 컴퓨터가 이해할 수 있는 언어\n",
    "word_to_id = {}\n",
    "id_to_word = {}\n",
    "\n",
    "for word in words:\n",
    "    if word not in word_to_id: # 사전 안에 존재 유무는 key로 따짐.\n",
    "        new_id = len(word_to_id)\n",
    "        word_to_id[word] = new_id # 한영사전\n",
    "        id_to_word[new_id] = word # 영한사전\n",
    "\n",
    "\n",
    "# 빈 dic의 len == 0"
   ]
  },
  {
   "cell_type": "code",
   "execution_count": 6,
   "metadata": {},
   "outputs": [
    {
     "data": {
      "text/plain": [
       "False"
      ]
     },
     "execution_count": 6,
     "metadata": {},
     "output_type": "execute_result"
    }
   ],
   "source": [
    "dic = {'a':'b', 'c':'d', 'e':'f'}\n",
    "'b' in dic\n",
    "'b' in dic.values()\n",
    "'b' in dic.keys()"
   ]
  },
  {
   "cell_type": "code",
   "execution_count": null,
   "metadata": {},
   "outputs": [],
   "source": []
  }
 ],
 "metadata": {
  "interpreter": {
   "hash": "a189447917acffb1567c89b7cb00fa9d2475a0f68c2a9e06a8cc7f2367540eba"
  },
  "kernelspec": {
   "display_name": "Python 3.8.5 ('base')",
   "language": "python",
   "name": "python3"
  },
  "language_info": {
   "codemirror_mode": {
    "name": "ipython",
    "version": 3
   },
   "file_extension": ".py",
   "mimetype": "text/x-python",
   "name": "python",
   "nbconvert_exporter": "python",
   "pygments_lexer": "ipython3",
   "version": "3.8.5"
  },
  "orig_nbformat": 4
 },
 "nbformat": 4,
 "nbformat_minor": 2
}
