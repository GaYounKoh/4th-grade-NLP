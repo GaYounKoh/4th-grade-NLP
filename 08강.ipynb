{
 "cells": [
  {
   "cell_type": "markdown",
   "metadata": {},
   "source": [
    "# TimeRNN class\n",
    "* ./common/time_layers.py"
   ]
  },
  {
   "cell_type": "code",
   "execution_count": null,
   "metadata": {},
   "outputs": [],
   "source": [
    "class TimeRNN: # 시간 블럭 크기만큼 RNN instance를 옆으로 이어붙인 클래스\n",
    "    def __init__(self, Wx, Wh, b, stateful=False): # stateful 옵션이 rnn instance와 차이점. 맨 마지막 히든스테이트를 다음으로 보내느냐(True), 아니냐 (False)\n",
    "        self.params = [Wx, Wh, b]\n",
    "        self.grads = [np.zeros_like(Wx), np.zeros_like(Wh), np.zeros_like(b)] # 제로벡터 생성 rnn instance와 동일\n",
    "        self.layers = None\n",
    "\n",
    "        self.h, self.dh = None, None\n",
    "        self.stateful = stateful\n",
    "\n",
    "    def forward(self, xs):\n",
    "        Wx, Wh, b = self.params\n",
    "        N, T, D = xs.shape # 3개 N: 배치사이즈 길이(크기), T: 시간 블럭 크기, D: Dense vector의 차원\n",
    "        D, H = Wx.shape # Wx: 들어오는 데이터 Dense vector, H: 은닉층(hidden_state로 들어가는 vec이든 나오는 vec이든 크기 동일.)\n",
    "\n",
    "        self.layers = []\n",
    "        hs = np.empty((N, T, H), dtype='f') # hs: 히든 스테이트들의 모임 (각 시간대별로 히든스테이트가 모일 것. 복수형이라 변수에 s붙임.)\n",
    "                # 왜 np.empty인가? 빈행렬에 아무거나 넣어주는... (일단 아무거나 채워놓고 나중에 제대로된 값 삽입.)\n",
    "\n",
    "        if not self.stateful or self.h is None:\n",
    "            self.h = np.zeros((N, H), dtype='f') # stateful=F면 다음시간으로 전달안해 == 제로행렬 전달하면 전달안하는 것과 같튼 말\n",
    "\n",
    "        for t in range(T):\n",
    "            layer = RNN(*self.params) # instance 또 새로 생성\n",
    "            self.h = layer.forward(xs[:, t, :], self.h) # 방금 출력한 걸로 맨 왼쪽 열을 바꾸겠다.\n",
    "            hs[:, t, :] = self.h\n",
    "            self.layers.append(layer) # layer = rnn instance\n",
    "\n",
    "        return hs\n",
    "\n",
    "    def backward(self, dhs):\n",
    "        Wx, Wh, b = self.params\n",
    "        N, T, H = dhs.shape\n",
    "        D, H = Wx.shape\n",
    "\n",
    "        dxs = np.empty((N, T, D), dtype='f')\n",
    "        dh = 0\n",
    "        grads = [0, 0, 0]\n",
    "        for t in reversed(range(T)):\n",
    "            layer = self.layers[t]\n",
    "            dx, dh = layer.backward(dhs[:, t, :] + dh)\n",
    "            dxs[:, t, :] = dx\n",
    "\n",
    "            for i, grad in enumerate(layer.grads):\n",
    "                grads[i] += grad\n",
    "\n",
    "        for i, grad in enumerate(grads):\n",
    "            self.grads[i][...] = grad\n",
    "        self.dh = dh\n",
    "\n",
    "        return dxs\n",
    "\n",
    "    def set_state(self, h):\n",
    "        self.h = h\n",
    "\n",
    "    def reset_state(self):\n",
    "        self.h = None"
   ]
  }
 ],
 "metadata": {
  "kernelspec": {
   "display_name": "Python 3.8.8 ('base')",
   "language": "python",
   "name": "python3"
  },
  "language_info": {
   "name": "python",
   "version": "3.8.8"
  },
  "orig_nbformat": 4,
  "vscode": {
   "interpreter": {
    "hash": "cd65bcbc58295ddb1be3c2ed454fcbd526c999271179adb38fc6bed2214131e2"
   }
  }
 },
 "nbformat": 4,
 "nbformat_minor": 2
}
