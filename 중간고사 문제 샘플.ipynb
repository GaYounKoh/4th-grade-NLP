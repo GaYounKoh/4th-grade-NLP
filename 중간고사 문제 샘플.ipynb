{
 "cells": [
  {
   "cell_type": "markdown",
   "id": "5b65f148",
   "metadata": {},
   "source": [
    "이름 : \n",
    "\n",
    "학번 : "
   ]
  },
  {
   "cell_type": "markdown",
   "id": "9c8e38c4",
   "metadata": {},
   "source": [
    "**시험중 외부 사이트는 [Keras](https://www.tensorflow.org/api_docs/python/tf/keras)만 참조 가능합니다.**"
   ]
  },
  {
   "cell_type": "code",
   "execution_count": null,
   "id": "4a823247",
   "metadata": {},
   "outputs": [],
   "source": [
    "from tensorflow import keras\n",
    "from keras import layers\n",
    "import numpy as np\n",
    "import matplotlib.pyplot as plt"
   ]
  },
  {
   "cell_type": "markdown",
   "id": "f5db7b5f",
   "metadata": {},
   "source": [
    "# 1. 다중 분류"
   ]
  },
  {
   "cell_type": "markdown",
   "id": "4f2aeb33",
   "metadata": {},
   "source": [
    "**MNIST 데이터를 불러오겠습니다.**"
   ]
  },
  {
   "cell_type": "code",
   "execution_count": null,
   "id": "204da438",
   "metadata": {},
   "outputs": [],
   "source": [
    "from keras.datasets import mnist\n",
    "from keras import Sequential\n",
    "from keras.layers import Dense\n",
    "\n",
    "(train_images, train_labels), (test_images, test_labels) = mnist.load_data()"
   ]
  },
  {
   "cell_type": "markdown",
   "id": "89fe1072",
   "metadata": {},
   "source": [
    "**1-1. 훈련 데이터의 앞 25장을 5$\\times$5 바둑판 형태로 출력하시오. 이미지 밑에 라벨을 표시하시오.**"
   ]
  },
  {
   "cell_type": "code",
   "execution_count": null,
   "id": "e7685c43",
   "metadata": {},
   "outputs": [],
   "source": []
  },
  {
   "cell_type": "markdown",
   "id": "a9c73151",
   "metadata": {},
   "source": [
    "**1-2. 데이터를 flatten하고 0과 1사이 값으로 리스케일링하시오.**"
   ]
  },
  {
   "cell_type": "code",
   "execution_count": null,
   "id": "a07f8751",
   "metadata": {},
   "outputs": [],
   "source": []
  },
  {
   "cell_type": "markdown",
   "id": "a855f4d5",
   "metadata": {},
   "source": [
    "**1-3. 다중분류를 목적으로한 다음과 같은 신경망을 Sequential API로 구성하시오.**\n",
    "![](https://drive.google.com/uc?id=1xa4LMpWL7VgpxZc_sQZZbDnAOjhF-Rum) "
   ]
  },
  {
   "cell_type": "code",
   "execution_count": null,
   "id": "2155f0e0",
   "metadata": {},
   "outputs": [],
   "source": []
  },
  {
   "cell_type": "markdown",
   "id": "2a827299",
   "metadata": {},
   "source": [
    "**1-4. 신경망의 요약된 정보를 출력하시오.**"
   ]
  },
  {
   "cell_type": "code",
   "execution_count": null,
   "id": "9408e18c",
   "metadata": {},
   "outputs": [],
   "source": []
  },
  {
   "cell_type": "markdown",
   "id": "d504af1d",
   "metadata": {},
   "source": [
    "**1-5. 옵티마이저는 RMSprop, 손실함수는 교차 엔트로피, 평가지표는 정확도로 학습설정을 하시오.**"
   ]
  },
  {
   "cell_type": "code",
   "execution_count": null,
   "id": "85681228",
   "metadata": {},
   "outputs": [],
   "source": []
  },
  {
   "cell_type": "markdown",
   "id": "91dffd1e",
   "metadata": {},
   "source": [
    "**1-6. 배치크기는 128, 훈련회수는 5에퍽으로 훈련시키시오.**"
   ]
  },
  {
   "cell_type": "code",
   "execution_count": null,
   "id": "56c0a6cd",
   "metadata": {},
   "outputs": [],
   "source": []
  },
  {
   "cell_type": "markdown",
   "id": "8029d638",
   "metadata": {},
   "source": [
    "**1-7. 테스트 데이터로 평가하시오.**"
   ]
  },
  {
   "cell_type": "code",
   "execution_count": null,
   "id": "08d5c886",
   "metadata": {},
   "outputs": [],
   "source": []
  },
  {
   "cell_type": "markdown",
   "id": "cbef9851",
   "metadata": {},
   "source": [
    "# 2. 이진 분류"
   ]
  },
  {
   "cell_type": "markdown",
   "id": "86afe768",
   "metadata": {},
   "source": [
    "**IMDB 데이터와 사전을 불러오겠습니다.**"
   ]
  },
  {
   "cell_type": "code",
   "execution_count": null,
   "id": "d30e23bc",
   "metadata": {},
   "outputs": [],
   "source": [
    "from keras.datasets import imdb\n",
    "\n",
    "(train_data, train_labels), (test_data, test_labels) = imdb.load_data(num_words=10000)\n",
    "word_index = imdb.get_word_index()"
   ]
  },
  {
   "cell_type": "markdown",
   "id": "38d95da7",
   "metadata": {},
   "source": [
    "**2-1. 첫번째 훈련데이터를 디코딩한 후 출력하시오.**"
   ]
  },
  {
   "cell_type": "code",
   "execution_count": null,
   "id": "a4563a0b",
   "metadata": {},
   "outputs": [],
   "source": []
  },
  {
   "cell_type": "markdown",
   "id": "28cd07c8",
   "metadata": {},
   "source": [
    "**2-2. 훈련 데이터와 테스트 데이터를 멀티 핫 인코딩하시오.**"
   ]
  },
  {
   "cell_type": "code",
   "execution_count": null,
   "id": "96fb1fd6",
   "metadata": {},
   "outputs": [],
   "source": []
  },
  {
   "cell_type": "markdown",
   "id": "e0c19cd1",
   "metadata": {},
   "source": [
    "**2-3. 이진분류를 목적으로한 다음과 같은 신경망을 Sequential API로 구성하시오.**\n",
    "![](https://drive.google.com/uc?id=1iNAopToiZ-tPhPQOONSRiyj_gzvmvwv7)"
   ]
  },
  {
   "cell_type": "code",
   "execution_count": null,
   "id": "86517ef6",
   "metadata": {},
   "outputs": [],
   "source": []
  },
  {
   "cell_type": "markdown",
   "id": "7056b989",
   "metadata": {},
   "source": [
    "**2-4. 신경망의 요약된 정보를 출력하시오.**"
   ]
  },
  {
   "cell_type": "code",
   "execution_count": null,
   "id": "e756b65a",
   "metadata": {},
   "outputs": [],
   "source": []
  },
  {
   "cell_type": "markdown",
   "id": "f5ac5465",
   "metadata": {},
   "source": [
    "**2-5. 옵티마이저는 RMSprop, 손실함수는 교차 엔트로피, 평가지표는 정확도로 학습설정을 하시오.**"
   ]
  },
  {
   "cell_type": "code",
   "execution_count": null,
   "id": "7497cb05",
   "metadata": {},
   "outputs": [],
   "source": []
  },
  {
   "cell_type": "markdown",
   "id": "51a9326f",
   "metadata": {},
   "source": [
    "**2-6. 훈련 데이터에서 앞 10,000개를 검증용으로 나머지를 훈련용으로 할당하시오.**"
   ]
  },
  {
   "cell_type": "code",
   "execution_count": null,
   "id": "b8f40315",
   "metadata": {},
   "outputs": [],
   "source": []
  },
  {
   "cell_type": "markdown",
   "id": "c349c9a3",
   "metadata": {},
   "source": [
    "**2-7. 훈련데이터를 사용하여 배치크기는 512, 훈련회수는 20에퍽으로 훈련시키시오. 검증데이터로 모니터링하시오.**"
   ]
  },
  {
   "cell_type": "code",
   "execution_count": null,
   "id": "5fdfc95d",
   "metadata": {},
   "outputs": [],
   "source": []
  },
  {
   "cell_type": "markdown",
   "id": "7a69e579",
   "metadata": {},
   "source": [
    "**2-8. 훈련데이터와 검증데이터의 에퍽별 손실함수 그래프와 정확도 그래프를 그리시오.**"
   ]
  },
  {
   "cell_type": "code",
   "execution_count": null,
   "id": "e2ff6cf9",
   "metadata": {},
   "outputs": [],
   "source": []
  },
  {
   "cell_type": "code",
   "execution_count": null,
   "id": "ccbcadc3",
   "metadata": {},
   "outputs": [],
   "source": []
  },
  {
   "cell_type": "markdown",
   "id": "02a7cee6",
   "metadata": {},
   "source": [
    "**2-9. 모델을 초기화하고 과적합이 일어나기 전까지 다시 훈련시키시오.**"
   ]
  },
  {
   "cell_type": "code",
   "execution_count": null,
   "id": "54a6f289",
   "metadata": {},
   "outputs": [],
   "source": []
  },
  {
   "cell_type": "markdown",
   "id": "459111ed",
   "metadata": {},
   "source": [
    "**2-10. 테스트 데이터로 평가하시오.**"
   ]
  },
  {
   "cell_type": "code",
   "execution_count": null,
   "id": "8fd1e8fd",
   "metadata": {},
   "outputs": [],
   "source": []
  },
  {
   "cell_type": "markdown",
   "id": "729046b1",
   "metadata": {},
   "source": [
    "# 3. 회귀"
   ]
  },
  {
   "cell_type": "markdown",
   "id": "241b984e",
   "metadata": {},
   "source": [
    "**보스턴 집값 데이터를 불러오겠습니다.  \n",
    "집값을 결정하는 13개 목차입니다.**"
   ]
  },
  {
   "cell_type": "code",
   "execution_count": null,
   "id": "17dcd1fb",
   "metadata": {},
   "outputs": [],
   "source": [
    "from keras.datasets import boston_housing\n",
    "import pandas as pd\n",
    "\n",
    "(train_data, train_targets), (test_data, test_targets) = boston_housing.load_data()\n",
    "\n",
    "columns = ['CRIM','ZN','INDUS','CHAS','NOX','RM','AGE','DIS','RAD','TAX','PTRATIO','B','LSTAT']"
   ]
  },
  {
   "cell_type": "markdown",
   "id": "ed181850",
   "metadata": {},
   "source": [
    "**3-1. 훈련데이터와 위 목차를 데이터 프레임으로 만들어 출력하시오.**"
   ]
  },
  {
   "cell_type": "code",
   "execution_count": null,
   "id": "4411af52",
   "metadata": {},
   "outputs": [],
   "source": []
  },
  {
   "cell_type": "markdown",
   "id": "35fe0357",
   "metadata": {},
   "source": [
    "**3-2. 집값을 추가하시오.**"
   ]
  },
  {
   "cell_type": "code",
   "execution_count": null,
   "id": "929ca091",
   "metadata": {},
   "outputs": [],
   "source": []
  },
  {
   "cell_type": "markdown",
   "id": "5781e8ef",
   "metadata": {},
   "source": [
    "**3-3. 훈련데이터의 평균과 표준편차로 훈련데이터와 테스트 데이터를 정규화 하시오.**"
   ]
  },
  {
   "cell_type": "code",
   "execution_count": null,
   "id": "6af979d9",
   "metadata": {},
   "outputs": [],
   "source": []
  },
  {
   "cell_type": "markdown",
   "id": "c0a6ed02",
   "metadata": {},
   "source": [
    "**3-4. 회귀를 목적으로한 다음과 같은 신경망을 Sequential API로 구성하시오.**\n",
    "![](https://drive.google.com/uc?id=1di1n97y6s1Fbsr-B-9wl-m1onhdlt_w6)"
   ]
  },
  {
   "cell_type": "code",
   "execution_count": null,
   "id": "b54421f0",
   "metadata": {},
   "outputs": [],
   "source": []
  },
  {
   "cell_type": "markdown",
   "id": "01c0cce9",
   "metadata": {},
   "source": [
    "**3-5. 신경망의 요약된 정보를 출력하시오.**"
   ]
  },
  {
   "cell_type": "code",
   "execution_count": null,
   "id": "42df4fd5",
   "metadata": {},
   "outputs": [],
   "source": []
  },
  {
   "cell_type": "markdown",
   "id": "b94b7968",
   "metadata": {},
   "source": [
    "**3-6. 옵티마이저는 RMSprop, 손실함수는 평균제곱오차, 평가지표는 평균절대오차로 학습설정을 하시오.**"
   ]
  },
  {
   "cell_type": "code",
   "execution_count": null,
   "id": "858e94b9",
   "metadata": {},
   "outputs": [],
   "source": []
  },
  {
   "cell_type": "markdown",
   "id": "b0f281a0",
   "metadata": {},
   "source": [
    "**3-7 배치크기는 16, 훈련회수는 130에퍽으로 훈련시키시오.**"
   ]
  },
  {
   "cell_type": "code",
   "execution_count": null,
   "id": "5c5bf362",
   "metadata": {},
   "outputs": [],
   "source": []
  },
  {
   "cell_type": "markdown",
   "id": "9603dd94",
   "metadata": {},
   "source": [
    "**3-8. 테스트 데이터로 평가하시오.**"
   ]
  },
  {
   "cell_type": "code",
   "execution_count": null,
   "id": "ff32dc40",
   "metadata": {},
   "outputs": [],
   "source": []
  },
  {
   "cell_type": "markdown",
   "id": "0542cb09",
   "metadata": {},
   "source": [
    "# 4. 과적합"
   ]
  },
  {
   "cell_type": "code",
   "execution_count": null,
   "id": "6b2708c7",
   "metadata": {},
   "outputs": [],
   "source": [
    "from tensorflow.keras import regularizers\n",
    "\n",
    "from keras.layers import Dropout"
   ]
  },
  {
   "cell_type": "markdown",
   "id": "9933bcff",
   "metadata": {},
   "source": [
    "**4-1. 이진분류를 목적으로한 다음과 같은 신경망을 Sequential API로 구성하시오. 가중치 감소 계수 $\\lambda = 0.002$로 $L^2$-규제를 가하시오.**\n",
    "\n",
    "![](https://drive.google.com/uc?id=1qyTwfr1hPiFzpAflIPrlbjykCY9XGUT3)"
   ]
  },
  {
   "cell_type": "code",
   "execution_count": null,
   "id": "b01f01dc",
   "metadata": {},
   "outputs": [],
   "source": []
  },
  {
   "cell_type": "markdown",
   "id": "683c4385",
   "metadata": {},
   "source": [
    "**4-2. 이진분류를 목적으로한 다음과 같은 신경망을 Sequential API로 구성하시오. 가중치 감소 계수 $\\lambda = 0.001$로 $L^1$-규제를 가하시오.**\n",
    "\n",
    "![](https://drive.google.com/uc?id=1qyTwfr1hPiFzpAflIPrlbjykCY9XGUT3)"
   ]
  },
  {
   "cell_type": "code",
   "execution_count": null,
   "id": "0c5f8de4",
   "metadata": {},
   "outputs": [],
   "source": []
  },
  {
   "cell_type": "markdown",
   "id": "b2b44f84",
   "metadata": {},
   "source": [
    "**4-3. 이진분류를 목적으로한 다음과 같은 신경망을 Sequential API로 구성하시오. ReLu층 다음에 DroptOut층을 두곳에 추가하시오. 드롭아웃 비율은 0.5로 잡으시오.**\n",
    "\n",
    "![](https://drive.google.com/uc?id=1qyTwfr1hPiFzpAflIPrlbjykCY9XGUT3)"
   ]
  },
  {
   "cell_type": "code",
   "execution_count": null,
   "id": "a033ad91",
   "metadata": {},
   "outputs": [],
   "source": []
  },
  {
   "cell_type": "markdown",
   "id": "f171cd1f",
   "metadata": {},
   "source": [
    "# 5. 함수형 API"
   ]
  },
  {
   "cell_type": "code",
   "execution_count": null,
   "id": "85c24d4f",
   "metadata": {},
   "outputs": [],
   "source": [
    "from keras.layers import Concatenate\n",
    "from tensorflow.keras.utils import plot_model"
   ]
  },
  {
   "cell_type": "markdown",
   "id": "e144cf83",
   "metadata": {},
   "source": [
    "**5-1. 어떤 회사에서 홈페이지를 통해 고객으로부터 클레임을 접수받는다고 하자. 고객은 제목란과 본문란에 클레임을 입력하고 체크 버튼을 눌러서 100개 카테고리중에 해당하는 만큼 선택한다. 인공신경망이 이를 입력받아 네 부서중 담당할 부서를 하나 선택하고 0부터 1사이의 우선처리점수를 부여하도록 설계하고자 한다. 고객이 입력한 제목과 본문은 10,000차원 멀티 핫 벡터로 전처리될 것이다. 함수형 API로 신경망을 구성하시오.**"
   ]
  },
  {
   "cell_type": "code",
   "execution_count": null,
   "id": "28cac21f",
   "metadata": {},
   "outputs": [],
   "source": []
  },
  {
   "cell_type": "markdown",
   "id": "39e39e30",
   "metadata": {},
   "source": [
    "**5-2. 신경망을 다이어그램으로 시각화하시오.**"
   ]
  },
  {
   "cell_type": "code",
   "execution_count": null,
   "id": "99848cc9",
   "metadata": {},
   "outputs": [],
   "source": []
  },
  {
   "cell_type": "markdown",
   "id": "85e90c23",
   "metadata": {},
   "source": [
    "**5-3 옵티마이저는 RMSprop, 손실함수는 평균제곱오차(우선처리점수)와 교차 엔트로피(부서선택), 평가지표는 평균절대오차(우선처리점수)와 정확도(부서선택)로 학습설정을 하시오.**"
   ]
  },
  {
   "cell_type": "code",
   "execution_count": null,
   "id": "4c2b2cc3",
   "metadata": {},
   "outputs": [],
   "source": []
  },
  {
   "cell_type": "markdown",
   "id": "fd1172e6",
   "metadata": {},
   "source": [
    "# 6. Sublcassing API"
   ]
  },
  {
   "cell_type": "markdown",
   "id": "5bd6f625",
   "metadata": {},
   "source": [
    "**6-1. 5-1번 문제의 신경망을 subclassing API로 재구성하시오.**"
   ]
  },
  {
   "cell_type": "code",
   "execution_count": null,
   "id": "3c12fe34",
   "metadata": {},
   "outputs": [],
   "source": []
  },
  {
   "cell_type": "markdown",
   "id": "b71c050c",
   "metadata": {},
   "source": [
    "# 7. 콜백"
   ]
  },
  {
   "cell_type": "code",
   "execution_count": null,
   "id": "b16564fe",
   "metadata": {},
   "outputs": [],
   "source": [
    "(images, labels), (test_images, test_labels) = mnist.load_data()\n",
    "from keras.callbacks import ModelCheckpoint, EarlyStopping, LearningRateScheduler, TensorBoard"
   ]
  },
  {
   "cell_type": "markdown",
   "id": "b950d29e",
   "metadata": {},
   "source": [
    "**7-1. 다중분류를 목적으로한 다음과 같은 신경망을 함수형 API로 구성하시오. ReLu층 다음에 드롭아웃 비율 0.5로 DropOut층을 끼워 넣으시오. 옵티마이저는 RMSprop, 손실함수는 교차 엔트로피, 평가지표는 정확도로 학습설정을 하시오.**\n",
    "![](https://drive.google.com/uc?id=1xa4LMpWL7VgpxZc_sQZZbDnAOjhF-Rum) "
   ]
  },
  {
   "cell_type": "code",
   "execution_count": null,
   "id": "756d931c",
   "metadata": {},
   "outputs": [],
   "source": []
  },
  {
   "cell_type": "markdown",
   "id": "7dd5de5d",
   "metadata": {},
   "source": [
    "**7-2. 데이터를 flatten하고 0과 1사이 값으로 리스케일링하시오. 훈련 데이터중 앞 10,000장을 검증용으로 나머지를 훈련용으로 할당하시오.**"
   ]
  },
  {
   "cell_type": "code",
   "execution_count": null,
   "id": "585f148b",
   "metadata": {},
   "outputs": [],
   "source": []
  },
  {
   "cell_type": "markdown",
   "id": "ffe1bbc5",
   "metadata": {},
   "source": [
    "**7-3. 다음과 같이 자동저장되도록 콜백을 설정하고 10에퍽동안 훈련시키시오.**\n",
    "- **현재 작업 디렉토리에 check_point.keras란 파일명으로 저장**\n",
    "- **검증데이터의 손실함수 값을 모니터링**\n",
    "- **에퍽마다 무조건 덮어쓰는게 아니라 모니터링 값이 전 에퍽보다 더 안좋으면 덮어쓰지 않음**"
   ]
  },
  {
   "cell_type": "code",
   "execution_count": null,
   "id": "14584ae4",
   "metadata": {},
   "outputs": [],
   "source": []
  },
  {
   "cell_type": "markdown",
   "id": "a7449c66",
   "metadata": {},
   "source": [
    "**7-4. 모델을 초기화한 후 다음과 같이 조기종료되도록 콜백을 설정하고 20에퍽동안 훈련시키시오.**\n",
    "- **검증 데이터의 정확도를 모니터링**\n",
    "- **모니터링 값이 향상 되지 않는다고 바로 종료하지 않고 2에퍽동안 더 지켜보고 향상되지 않으면 학습을 종료**"
   ]
  },
  {
   "cell_type": "code",
   "execution_count": null,
   "id": "0a8362e8",
   "metadata": {},
   "outputs": [],
   "source": []
  },
  {
   "cell_type": "markdown",
   "id": "72f9dbb5",
   "metadata": {},
   "source": [
    "**7-5. 모델을 초기화한 후 옵티마이저를 SGD, 학습률 1로 설정하시오. 10에퍽까지는 1의 학습률로 학습하다가 11에퍽부터는 이전 에퍽 학습률에 $e^{-0.1}$($\\approx 0.9048$)을 곱한 학습률로 학습하도록 런닝 스케줄러를 설정하고 15에퍽동안 훈련시키시오.**"
   ]
  },
  {
   "cell_type": "code",
   "execution_count": null,
   "id": "8478cc99",
   "metadata": {},
   "outputs": [],
   "source": []
  },
  {
   "cell_type": "markdown",
   "id": "fa11d924",
   "metadata": {},
   "source": [
    "# 8. 저수준 API"
   ]
  },
  {
   "cell_type": "markdown",
   "id": "e298aed0",
   "metadata": {},
   "source": [
    "**다변량 정규분포를 따라 2차원 데이터를 각각 1,000개씩 두 세트를 만듭니다.**"
   ]
  },
  {
   "cell_type": "code",
   "execution_count": null,
   "id": "1b5b15ac",
   "metadata": {},
   "outputs": [],
   "source": [
    "import tensorflow as tf\n",
    "\n",
    "num_samples_per_class = 1000\n",
    "\n",
    "negative_samples = np.random.multivariate_normal(\n",
    "    mean=[0, 3],\n",
    "    cov=[[1, 0.5],[0.5, 1]],\n",
    "    size=num_samples_per_class)\n",
    "\n",
    "positive_samples = np.random.multivariate_normal(\n",
    "    mean=[3, 0],\n",
    "    cov=[[1, 0.5],[0.5, 1]],\n",
    "    size=num_samples_per_class)\n",
    "\n",
    "print(negative_samples.shape)\n",
    "print(positive_samples.shape)\n",
    "\n",
    "inputs = np.vstack((negative_samples, positive_samples)).astype(np.float32)\n",
    "print(inputs.shape)\n",
    "\n",
    "targets = np.vstack((np.zeros((num_samples_per_class, 1), dtype=\"float32\"),\n",
    "                     np.ones((num_samples_per_class, 1), dtype=\"float32\")))\n",
    "print(targets.shape)\n",
    "print(targets)\n",
    "\n",
    "plt.scatter(inputs[:, 0], inputs[:, 1], c=targets[:, 0])\n",
    "plt.show()"
   ]
  },
  {
   "cell_type": "markdown",
   "id": "07bbfdd0",
   "metadata": {},
   "source": [
    "**8-1. $[0,1]$위의 균등분포를 따라 랜덤하게 2$\\times$1 변수 텐서 $W$를 생성하시오. 0을 값으로 가지는 변수 텐서 $b$를 생성하시오.**"
   ]
  },
  {
   "cell_type": "code",
   "execution_count": null,
   "id": "a43db3bc",
   "metadata": {},
   "outputs": [],
   "source": []
  },
  {
   "cell_type": "markdown",
   "id": "05024594",
   "metadata": {},
   "source": [
    "**8-2.선형 분류기를 구성하시오.**"
   ]
  },
  {
   "cell_type": "code",
   "execution_count": null,
   "id": "a8a71e7f",
   "metadata": {},
   "outputs": [],
   "source": []
  },
  {
   "cell_type": "markdown",
   "id": "9d8ce427",
   "metadata": {},
   "source": [
    "**8-3 라벨과 예측값을 입력으로 받아 평균제곱오차를 리턴하는 함수를 작성하시오.**"
   ]
  },
  {
   "cell_type": "code",
   "execution_count": null,
   "id": "516284fe",
   "metadata": {},
   "outputs": [],
   "source": []
  },
  {
   "cell_type": "markdown",
   "id": "a791b114",
   "metadata": {},
   "source": [
    "**8-4 자동미분으로 선형분류기를 학습시키시오. 학습률은 0.1, 학습회수는 40번으로 잡으시오.**"
   ]
  },
  {
   "cell_type": "code",
   "execution_count": null,
   "id": "77836329",
   "metadata": {},
   "outputs": [],
   "source": []
  },
  {
   "cell_type": "markdown",
   "id": "497bcaab",
   "metadata": {},
   "source": [
    "**8-5 선형분류기가 분류한 두 군집을 시각화하시오.**"
   ]
  },
  {
   "cell_type": "code",
   "execution_count": null,
   "id": "74c338ae",
   "metadata": {},
   "outputs": [],
   "source": []
  }
 ],
 "metadata": {
  "kernelspec": {
   "display_name": "Python 3 (ipykernel)",
   "language": "python",
   "name": "python3"
  },
  "language_info": {
   "codemirror_mode": {
    "name": "ipython",
    "version": 3
   },
   "file_extension": ".py",
   "mimetype": "text/x-python",
   "name": "python",
   "nbconvert_exporter": "python",
   "pygments_lexer": "ipython3",
   "version": "3.9.12"
  }
 },
 "nbformat": 4,
 "nbformat_minor": 5
}
