{
 "cells": [
  {
   "cell_type": "markdown",
   "id": "6b63227c",
   "metadata": {},
   "source": [
    "# 과소적합 (underfitting)"
   ]
  },
  {
   "cell_type": "markdown",
   "id": "9d9485df",
   "metadata": {},
   "source": [
    "[딥러닝II](https://youtu.be/7wv1sjqS5IE?t=6)에서 공부했던 과적합을 실험적으로 구현해보겠습니다.  \n",
    "이진분류에서 다뤘던 신경망과 IMDB 데이터셋으로요.  \n",
    "![](https://drive.google.com/uc?id=1qyTwfr1hPiFzpAflIPrlbjykCY9XGUT3)\n",
    "\n",
    "---\n",
    "앞에서처럼 훈련 데이터를 직접 나눌수도 있지만 [fit](https://www.tensorflow.org/api_docs/python/tf/keras/Sequential#fit)메서드에서 validation_split 설정으로 편리하게 나눠서 학습시킬수 있습니다.  \n",
    "0과 1사의 값으로 검증데이터의 비율을 지정해줍니다.  \n",
    "입력 뉴런의 개수는 데이터가 입력될때 결정됩니다."
   ]
  },
  {
   "cell_type": "code",
   "execution_count": 1,
   "id": "a0294fdd",
   "metadata": {},
   "outputs": [
    {
     "name": "stdout",
     "output_type": "stream",
     "text": [
      "Epoch 1/20\n",
      "30/30 [==============================] - 2s 48ms/step - loss: 0.5360 - accuracy: 0.7830 - val_loss: 0.4051 - val_accuracy: 0.8725\n",
      "Epoch 2/20\n",
      "30/30 [==============================] - 1s 18ms/step - loss: 0.3285 - accuracy: 0.9000 - val_loss: 0.3148 - val_accuracy: 0.8876\n",
      "Epoch 3/20\n",
      "30/30 [==============================] - 1s 17ms/step - loss: 0.2424 - accuracy: 0.9243 - val_loss: 0.2820 - val_accuracy: 0.8937\n",
      "Epoch 4/20\n",
      "30/30 [==============================] - 1s 19ms/step - loss: 0.1895 - accuracy: 0.9398 - val_loss: 0.2751 - val_accuracy: 0.8899\n",
      "Epoch 5/20\n",
      "30/30 [==============================] - 1s 17ms/step - loss: 0.1536 - accuracy: 0.9499 - val_loss: 0.2772 - val_accuracy: 0.8893\n",
      "Epoch 6/20\n",
      "30/30 [==============================] - 1s 18ms/step - loss: 0.1253 - accuracy: 0.9615 - val_loss: 0.3021 - val_accuracy: 0.8840\n",
      "Epoch 7/20\n",
      "30/30 [==============================] - 1s 18ms/step - loss: 0.1070 - accuracy: 0.9675 - val_loss: 0.3124 - val_accuracy: 0.8845\n",
      "Epoch 8/20\n",
      "30/30 [==============================] - 1s 18ms/step - loss: 0.0888 - accuracy: 0.9736 - val_loss: 0.3295 - val_accuracy: 0.8831\n",
      "Epoch 9/20\n",
      "30/30 [==============================] - 1s 19ms/step - loss: 0.0753 - accuracy: 0.9788 - val_loss: 0.3505 - val_accuracy: 0.8815\n",
      "Epoch 10/20\n",
      "30/30 [==============================] - 1s 18ms/step - loss: 0.0612 - accuracy: 0.9835 - val_loss: 0.3764 - val_accuracy: 0.8791\n",
      "Epoch 11/20\n",
      "30/30 [==============================] - 1s 18ms/step - loss: 0.0515 - accuracy: 0.9868 - val_loss: 0.3999 - val_accuracy: 0.8743\n",
      "Epoch 12/20\n",
      "30/30 [==============================] - 1s 18ms/step - loss: 0.0445 - accuracy: 0.9887 - val_loss: 0.4286 - val_accuracy: 0.8739\n",
      "Epoch 13/20\n",
      "30/30 [==============================] - 1s 18ms/step - loss: 0.0356 - accuracy: 0.9917 - val_loss: 0.4553 - val_accuracy: 0.8741\n",
      "Epoch 14/20\n",
      "30/30 [==============================] - 1s 18ms/step - loss: 0.0302 - accuracy: 0.9925 - val_loss: 0.4984 - val_accuracy: 0.8697\n",
      "Epoch 15/20\n",
      "30/30 [==============================] - 1s 18ms/step - loss: 0.0225 - accuracy: 0.9957 - val_loss: 0.5146 - val_accuracy: 0.8717\n",
      "Epoch 16/20\n",
      "30/30 [==============================] - 1s 18ms/step - loss: 0.0224 - accuracy: 0.9953 - val_loss: 0.5454 - val_accuracy: 0.8717\n",
      "Epoch 17/20\n",
      "30/30 [==============================] - 1s 18ms/step - loss: 0.0133 - accuracy: 0.9984 - val_loss: 0.5809 - val_accuracy: 0.8680\n",
      "Epoch 18/20\n",
      "30/30 [==============================] - 1s 18ms/step - loss: 0.0136 - accuracy: 0.9976 - val_loss: 0.6162 - val_accuracy: 0.8682\n",
      "Epoch 19/20\n",
      "30/30 [==============================] - 1s 18ms/step - loss: 0.0124 - accuracy: 0.9975 - val_loss: 0.6516 - val_accuracy: 0.8682\n",
      "Epoch 20/20\n",
      "30/30 [==============================] - 1s 17ms/step - loss: 0.0062 - accuracy: 0.9996 - val_loss: 0.7016 - val_accuracy: 0.8658\n"
     ]
    }
   ],
   "source": [
    "from tensorflow import keras\n",
    "from keras.datasets import imdb\n",
    "from keras import models\n",
    "from keras.layers import Dense\n",
    "from tensorflow.keras.utils import plot_model\n",
    "import numpy as np\n",
    "\n",
    "(train_data, train_labels), _ = imdb.load_data(num_words=10000)\n",
    "\n",
    "def vectorize_sequences(sequences, dimension=10000):\n",
    "    results = np.zeros((len(sequences), dimension))\n",
    "    for i, sequence in enumerate(sequences):\n",
    "        results[i, sequence] = 1.\n",
    "    return results\n",
    "\n",
    "train_data = vectorize_sequences(train_data)\n",
    "\n",
    "original_model = keras.Sequential([\n",
    "    Dense(16, activation=\"relu\"),\n",
    "    Dense(16, activation=\"relu\"),\n",
    "    Dense(1, activation=\"sigmoid\")])\n",
    "\n",
    "original_model.compile(optimizer=\"rmsprop\",\n",
    "              loss=\"binary_crossentropy\",\n",
    "              metrics=\"accuracy\")\n",
    "\n",
    "original_hist = original_model.fit(train_data, train_labels,\n",
    "                             epochs=20, batch_size=512, validation_split=0.4)"
   ]
  },
  {
   "cell_type": "markdown",
   "id": "318adc8e",
   "metadata": {},
   "source": [
    "은닉층의 뉴런수를 16에서 4로 줄인 작은 신경망을 만들고 학습시켜 보겠습니다.  \n",
    "![](https://drive.google.com/uc?id=1ej6ZYCbe5_Lc8HNAVxcpEkkfV_9tUO8a)"
   ]
  },
  {
   "cell_type": "code",
   "execution_count": 2,
   "id": "caadc333",
   "metadata": {},
   "outputs": [
    {
     "name": "stdout",
     "output_type": "stream",
     "text": [
      "Epoch 1/20\n",
      "30/30 [==============================] - 2s 47ms/step - loss: 0.6298 - accuracy: 0.6708 - val_loss: 0.5817 - val_accuracy: 0.7744\n",
      "Epoch 2/20\n",
      "30/30 [==============================] - 1s 17ms/step - loss: 0.5443 - accuracy: 0.7896 - val_loss: 0.5365 - val_accuracy: 0.8166\n",
      "Epoch 3/20\n",
      "30/30 [==============================] - 1s 18ms/step - loss: 0.4968 - accuracy: 0.8443 - val_loss: 0.5076 - val_accuracy: 0.8426\n",
      "Epoch 4/20\n",
      "30/30 [==============================] - 1s 18ms/step - loss: 0.4624 - accuracy: 0.8756 - val_loss: 0.4904 - val_accuracy: 0.8695\n",
      "Epoch 5/20\n",
      "30/30 [==============================] - 1s 18ms/step - loss: 0.4349 - accuracy: 0.8994 - val_loss: 0.4783 - val_accuracy: 0.8480\n",
      "Epoch 6/20\n",
      "30/30 [==============================] - 1s 18ms/step - loss: 0.4117 - accuracy: 0.9153 - val_loss: 0.4746 - val_accuracy: 0.8454\n",
      "Epoch 7/20\n",
      "30/30 [==============================] - 1s 18ms/step - loss: 0.3917 - accuracy: 0.9287 - val_loss: 0.4664 - val_accuracy: 0.8569\n",
      "Epoch 8/20\n",
      "30/30 [==============================] - 1s 18ms/step - loss: 0.3744 - accuracy: 0.9390 - val_loss: 0.4834 - val_accuracy: 0.8392\n",
      "Epoch 9/20\n",
      "30/30 [==============================] - 1s 17ms/step - loss: 0.3586 - accuracy: 0.9459 - val_loss: 0.4570 - val_accuracy: 0.8663\n",
      "Epoch 10/20\n",
      "30/30 [==============================] - 1s 18ms/step - loss: 0.3439 - accuracy: 0.9544 - val_loss: 0.4694 - val_accuracy: 0.8585\n",
      "Epoch 11/20\n",
      "30/30 [==============================] - 1s 18ms/step - loss: 0.3313 - accuracy: 0.9609 - val_loss: 0.4584 - val_accuracy: 0.8668\n",
      "Epoch 12/20\n",
      "30/30 [==============================] - 1s 18ms/step - loss: 0.3194 - accuracy: 0.9669 - val_loss: 0.4789 - val_accuracy: 0.8577\n",
      "Epoch 13/20\n",
      "30/30 [==============================] - 1s 18ms/step - loss: 0.3080 - accuracy: 0.9705 - val_loss: 0.4777 - val_accuracy: 0.8596\n",
      "Epoch 14/20\n",
      "30/30 [==============================] - 1s 18ms/step - loss: 0.2970 - accuracy: 0.9749 - val_loss: 0.4699 - val_accuracy: 0.8659\n",
      "Epoch 15/20\n",
      "30/30 [==============================] - 1s 18ms/step - loss: 0.2876 - accuracy: 0.9783 - val_loss: 0.4883 - val_accuracy: 0.8611\n",
      "Epoch 16/20\n",
      "30/30 [==============================] - 1s 18ms/step - loss: 0.2779 - accuracy: 0.9801 - val_loss: 0.4709 - val_accuracy: 0.8678\n",
      "Epoch 17/20\n",
      "30/30 [==============================] - 1s 18ms/step - loss: 0.2694 - accuracy: 0.9821 - val_loss: 0.4887 - val_accuracy: 0.8644\n",
      "Epoch 18/20\n",
      "30/30 [==============================] - 1s 18ms/step - loss: 0.2614 - accuracy: 0.9837 - val_loss: 0.4871 - val_accuracy: 0.8652\n",
      "Epoch 19/20\n",
      "30/30 [==============================] - 1s 18ms/step - loss: 0.2531 - accuracy: 0.9853 - val_loss: 0.4916 - val_accuracy: 0.8665\n",
      "Epoch 20/20\n",
      "30/30 [==============================] - 1s 17ms/step - loss: 0.2460 - accuracy: 0.9857 - val_loss: 0.5172 - val_accuracy: 0.8626\n"
     ]
    }
   ],
   "source": [
    "smaller_model = keras.Sequential([\n",
    "    Dense(4, activation=\"relu\"),\n",
    "    Dense(4, activation=\"relu\"),\n",
    "    Dense(1, activation=\"sigmoid\")])\n",
    "\n",
    "smaller_model.compile(optimizer=\"rmsprop\",\n",
    "              loss=\"binary_crossentropy\",\n",
    "              metrics=\"accuracy\")\n",
    "\n",
    "smaller_model_hist = smaller_model.fit(\n",
    "    train_data, train_labels,\n",
    "    epochs=20, batch_size=512, validation_split=0.4)"
   ]
  },
  {
   "cell_type": "markdown",
   "id": "09efadd9",
   "metadata": {},
   "source": [
    "작은 모델의 파라미터 개수가 중간모델의 4분의 1밖에 안됩니다.  \n",
    "훈련데이터의 정보를 저장할 수 있는 용량이 4분의 1밖에 안된다는 뜻이지요."
   ]
  },
  {
   "cell_type": "code",
   "execution_count": 3,
   "id": "7755ecbc",
   "metadata": {},
   "outputs": [
    {
     "name": "stdout",
     "output_type": "stream",
     "text": [
      "Model: \"sequential\"\n",
      "_________________________________________________________________\n",
      " Layer (type)                Output Shape              Param #   \n",
      "=================================================================\n",
      " dense (Dense)               (None, 16)                160016    \n",
      "                                                                 \n",
      " dense_1 (Dense)             (None, 16)                272       \n",
      "                                                                 \n",
      " dense_2 (Dense)             (None, 1)                 17        \n",
      "                                                                 \n",
      "=================================================================\n",
      "Total params: 160,305\n",
      "Trainable params: 160,305\n",
      "Non-trainable params: 0\n",
      "_________________________________________________________________\n",
      "Model: \"sequential_1\"\n",
      "_________________________________________________________________\n",
      " Layer (type)                Output Shape              Param #   \n",
      "=================================================================\n",
      " dense_3 (Dense)             (None, 4)                 40004     \n",
      "                                                                 \n",
      " dense_4 (Dense)             (None, 4)                 20        \n",
      "                                                                 \n",
      " dense_5 (Dense)             (None, 1)                 5         \n",
      "                                                                 \n",
      "=================================================================\n",
      "Total params: 40,029\n",
      "Trainable params: 40,029\n",
      "Non-trainable params: 0\n",
      "_________________________________________________________________\n"
     ]
    }
   ],
   "source": [
    "original_model.summary()\n",
    "smaller_model.summary()"
   ]
  },
  {
   "cell_type": "markdown",
   "id": "9501ccec",
   "metadata": {},
   "source": [
    "훈련데이터에 대해서는 중간 신경망의 손실함수값이 작은 신경망보다 빠르게 감소합니다.  \n",
    "중간 신경망의 메모리가 더 커서 훈련 데이터의 정보를 빠르고 많이 습득하기 때문이겠죠."
   ]
  },
  {
   "cell_type": "code",
   "execution_count": 4,
   "id": "32890b04",
   "metadata": {},
   "outputs": [
    {
     "data": {
      "image/png": "[encoded data removed]",
      "text/plain": [
       "<Figure size 432x288 with 1 Axes>"
      ]
     },
     "metadata": {
      "needs_background": "light"
     },
     "output_type": "display_data"
    }
   ],
   "source": [
    "import matplotlib.pyplot as plt\n",
    "\n",
    "epochs = range(1, 21)\n",
    "original_train_loss = original_hist.history['loss']\n",
    "smaller_model_train_loss = smaller_model_hist.history['loss']\n",
    "\n",
    "plt.plot(epochs, original_train_loss, 'b+', label='Original model')\n",
    "plt.plot(epochs, smaller_model_train_loss, 'bo', label='Smaller model')\n",
    "plt.xlabel('Epochs')\n",
    "plt.ylabel('Training loss')\n",
    "plt.legend()\n",
    "\n",
    "plt.show()"
   ]
  },
  {
   "cell_type": "markdown",
   "id": "42350361",
   "metadata": {},
   "source": [
    "검증데이터에 대해서는 작은 신경망에서 과적합이 더 늦게 그리고 더 완만히 진행됩니다."
   ]
  },
  {
   "cell_type": "code",
   "execution_count": 5,
   "id": "959ae806",
   "metadata": {
    "scrolled": true
   },
   "outputs": [
    {
     "data": {
      "image/png": "[encoded data removed]",
      "text/plain": [
       "<Figure size 432x288 with 1 Axes>"
      ]
     },
     "metadata": {
      "needs_background": "light"
     },
     "output_type": "display_data"
    }
   ],
   "source": [
    "original_val_loss = original_hist.history['val_loss']\n",
    "smaller_model_val_loss = smaller_model_hist.history['val_loss']\n",
    "\n",
    "plt.plot(epochs, original_val_loss, 'b+', label='Original model')\n",
    "plt.plot(epochs, smaller_model_val_loss, 'bo', label='Smaller model')\n",
    "plt.xlabel('Epochs')\n",
    "plt.ylabel('Validation loss')\n",
    "plt.legend()\n",
    "\n",
    "plt.show()"
   ]
  },
  {
   "cell_type": "markdown",
   "id": "3e81601c",
   "metadata": {},
   "source": [
    "# 과대적합 (overfitting)"
   ]
  },
  {
   "cell_type": "markdown",
   "id": "7579f6be",
   "metadata": {},
   "source": [
    "은닉층의 뉴런수를 16에서 512로 늘린 큰 신경망을 만들고 학습시켜 보겠습니다.  \n",
    "![](https://drive.google.com/uc?id=1q0daZATKf8vTpHRtPelk0bcu9_CcgbLz)"
   ]
  },
  {
   "cell_type": "code",
   "execution_count": 6,
   "id": "9f374e32",
   "metadata": {},
   "outputs": [
    {
     "name": "stdout",
     "output_type": "stream",
     "text": [
      "Epoch 1/20\n",
      "30/30 [==============================] - 2s 40ms/step - loss: 0.5359 - accuracy: 0.7655 - val_loss: 0.3069 - val_accuracy: 0.8783\n",
      "Epoch 2/20\n",
      "30/30 [==============================] - 1s 22ms/step - loss: 0.2534 - accuracy: 0.8979 - val_loss: 0.2727 - val_accuracy: 0.8892\n",
      "Epoch 3/20\n",
      "30/30 [==============================] - 1s 23ms/step - loss: 0.1396 - accuracy: 0.9472 - val_loss: 0.3034 - val_accuracy: 0.8783\n",
      "Epoch 4/20\n",
      "30/30 [==============================] - 1s 22ms/step - loss: 0.0801 - accuracy: 0.9735 - val_loss: 0.3839 - val_accuracy: 0.8867\n",
      "Epoch 5/20\n",
      "30/30 [==============================] - 1s 21ms/step - loss: 0.0897 - accuracy: 0.9781 - val_loss: 0.3220 - val_accuracy: 0.8846\n",
      "Epoch 6/20\n",
      "30/30 [==============================] - 1s 21ms/step - loss: 0.0062 - accuracy: 0.9995 - val_loss: 0.5509 - val_accuracy: 0.8766\n",
      "Epoch 7/20\n",
      "30/30 [==============================] - 1s 21ms/step - loss: 8.7530e-04 - accuracy: 0.9999 - val_loss: 0.6619 - val_accuracy: 0.8822\n",
      "Epoch 8/20\n",
      "30/30 [==============================] - 1s 22ms/step - loss: 1.6188e-04 - accuracy: 1.0000 - val_loss: 0.8196 - val_accuracy: 0.8827\n",
      "Epoch 9/20\n",
      "30/30 [==============================] - 1s 22ms/step - loss: 0.2438 - accuracy: 0.9748 - val_loss: 0.5745 - val_accuracy: 0.8813\n",
      "Epoch 10/20\n",
      "30/30 [==============================] - 1s 21ms/step - loss: 3.2075e-04 - accuracy: 1.0000 - val_loss: 0.6303 - val_accuracy: 0.8856\n",
      "Epoch 11/20\n",
      "30/30 [==============================] - 1s 22ms/step - loss: 1.0299e-04 - accuracy: 1.0000 - val_loss: 0.7178 - val_accuracy: 0.8875\n",
      "Epoch 12/20\n",
      "30/30 [==============================] - 1s 22ms/step - loss: 3.0269e-05 - accuracy: 1.0000 - val_loss: 0.8093 - val_accuracy: 0.8864\n",
      "Epoch 13/20\n",
      "30/30 [==============================] - 1s 21ms/step - loss: 8.5825e-06 - accuracy: 1.0000 - val_loss: 0.9120 - val_accuracy: 0.8857\n",
      "Epoch 14/20\n",
      "30/30 [==============================] - 1s 22ms/step - loss: 2.6527e-06 - accuracy: 1.0000 - val_loss: 1.0154 - val_accuracy: 0.8838\n",
      "Epoch 15/20\n",
      "30/30 [==============================] - 1s 22ms/step - loss: 8.1402e-07 - accuracy: 1.0000 - val_loss: 1.0865 - val_accuracy: 0.8867\n",
      "Epoch 16/20\n",
      "30/30 [==============================] - 1s 21ms/step - loss: 2.7907e-07 - accuracy: 1.0000 - val_loss: 1.1539 - val_accuracy: 0.8864\n",
      "Epoch 17/20\n",
      "30/30 [==============================] - 1s 22ms/step - loss: 1.0880e-07 - accuracy: 1.0000 - val_loss: 1.2278 - val_accuracy: 0.8866\n",
      "Epoch 18/20\n",
      "30/30 [==============================] - 1s 21ms/step - loss: 4.8311e-08 - accuracy: 1.0000 - val_loss: 1.2830 - val_accuracy: 0.8865\n",
      "Epoch 19/20\n",
      "30/30 [==============================] - 1s 22ms/step - loss: 2.6594e-08 - accuracy: 1.0000 - val_loss: 1.3174 - val_accuracy: 0.8866\n",
      "Epoch 20/20\n",
      "30/30 [==============================] - 1s 21ms/step - loss: 1.7789e-08 - accuracy: 1.0000 - val_loss: 1.3403 - val_accuracy: 0.8863\n"
     ]
    }
   ],
   "source": [
    "bigger_model = keras.Sequential([\n",
    "    Dense(512, activation=\"relu\"),\n",
    "    Dense(512, activation=\"relu\"),\n",
    "    Dense(1, activation=\"sigmoid\")])\n",
    "\n",
    "bigger_model.compile(optimizer=\"rmsprop\",\n",
    "              loss=\"binary_crossentropy\",\n",
    "              metrics=\"accuracy\")\n",
    "\n",
    "bigger_model_hist = bigger_model.fit(\n",
    "    train_data, train_labels,\n",
    "    epochs=20, batch_size=512, validation_split=0.4)"
   ]
  },
  {
   "cell_type": "markdown",
   "id": "f33da91b",
   "metadata": {},
   "source": [
    "큰 모델의 파라미터 개수가 중간모델의 무려 33배나 됩니다.  \n",
    "기억 용량도 33배라는 뜻이지요."
   ]
  },
  {
   "cell_type": "code",
   "execution_count": 7,
   "id": "9c4d9973",
   "metadata": {},
   "outputs": [
    {
     "name": "stdout",
     "output_type": "stream",
     "text": [
      "Model: \"sequential\"\n",
      "_________________________________________________________________\n",
      " Layer (type)                Output Shape              Param #   \n",
      "=================================================================\n",
      " dense (Dense)               (None, 16)                160016    \n",
      "                                                                 \n",
      " dense_1 (Dense)             (None, 16)                272       \n",
      "                                                                 \n",
      " dense_2 (Dense)             (None, 1)                 17        \n",
      "                                                                 \n",
      "=================================================================\n",
      "Total params: 160,305\n",
      "Trainable params: 160,305\n",
      "Non-trainable params: 0\n",
      "_________________________________________________________________\n",
      "Model: \"sequential_2\"\n",
      "_________________________________________________________________\n",
      " Layer (type)                Output Shape              Param #   \n",
      "=================================================================\n",
      " dense_6 (Dense)             (None, 512)               5120512   \n",
      "                                                                 \n",
      " dense_7 (Dense)             (None, 512)               262656    \n",
      "                                                                 \n",
      " dense_8 (Dense)             (None, 1)                 513       \n",
      "                                                                 \n",
      "=================================================================\n",
      "Total params: 5,383,681\n",
      "Trainable params: 5,383,681\n",
      "Non-trainable params: 0\n",
      "_________________________________________________________________\n"
     ]
    }
   ],
   "source": [
    "original_model.summary()\n",
    "bigger_model.summary()"
   ]
  },
  {
   "cell_type": "markdown",
   "id": "3419bed3",
   "metadata": {},
   "source": [
    "훈련데이터에 대해서는 큰 신경망의 손실함수값이 빠르게 0으로 떨어집니다.  \n",
    "그런데 학습 중간에 튀는 불안정한 현상을 볼수 있네요."
   ]
  },
  {
   "cell_type": "code",
   "execution_count": 8,
   "id": "1027e1f3",
   "metadata": {},
   "outputs": [
    {
     "data": {
      "image/png": "[encoded data removed]",
      "text/plain": [
       "<Figure size 432x288 with 1 Axes>"
      ]
     },
     "metadata": {
      "needs_background": "light"
     },
     "output_type": "display_data"
    }
   ],
   "source": [
    "original_train_loss = original_hist.history['loss']\n",
    "bigger_model_train_loss = bigger_model_hist.history['loss']\n",
    "\n",
    "plt.plot(epochs, original_train_loss, 'b+', label='Original model')\n",
    "plt.plot(epochs, bigger_model_train_loss, 'bo', label='Bigger model')\n",
    "plt.xlabel('Epochs')\n",
    "plt.ylabel('Training loss')\n",
    "plt.legend()\n",
    "\n",
    "plt.show()"
   ]
  },
  {
   "cell_type": "markdown",
   "id": "87c8586a",
   "metadata": {},
   "source": [
    "검증데이터에 대해서는 큰 신경망에서 과적합이 더 빨리 그리고 더 가파르게 그리고 더 불안정하게 진행됩니다."
   ]
  },
  {
   "cell_type": "code",
   "execution_count": 9,
   "id": "967a4c05",
   "metadata": {},
   "outputs": [
    {
     "data": {
      "image/png": "[encoded data removed]",
      "text/plain": [
       "<Figure size 432x288 with 1 Axes>"
      ]
     },
     "metadata": {
      "needs_background": "light"
     },
     "output_type": "display_data"
    }
   ],
   "source": [
    "bigger_model_val_loss = bigger_model_hist.history['val_loss']\n",
    "\n",
    "plt.plot(epochs, original_val_loss, 'b+', label='Original model')\n",
    "plt.plot(epochs, bigger_model_val_loss, 'bo', label='Bigger model')\n",
    "plt.xlabel('Epochs')\n",
    "plt.ylabel('Validation loss')\n",
    "plt.legend()\n",
    "\n",
    "plt.show()"
   ]
  },
  {
   "cell_type": "markdown",
   "id": "d89164b1",
   "metadata": {},
   "source": [
    "# $L^2$-규제 ($L^2$-regularization)"
   ]
  },
  {
   "cell_type": "markdown",
   "id": "8238aab3",
   "metadata": {},
   "source": [
    "[딥러닝II](https://youtu.be/7wv1sjqS5IE?t=460)에서 $L^2$-규제에 대해 공부했습니다.  \n",
    "기존 손실함수에 $L^2$ 페널티 ${1 \\over 2} \\times \\lambda \\times \\sum w_{i,j}^2$를 더합니다.  \n",
    "여기서 $w_{i,j}$는 모든 가중치를 뜻합니다.  \n",
    "가중치 감소 계수 $\\lambda$는 직접 설정해야 하는 하이퍼 파라미터입니다.  \n",
    "크게 잡으면 페널티가 큰 역할을 하고 작게 잡으면 페널티 역할이 작아집니다.  \n",
    "미분은 선형이기 때문에 새로운 손실함수의 그레디언트는 기존 손실함수의 그레디언트와 페널티의 그레디언트를 합한 것과 같습니다.  \n",
    "경사하강법을 적용하면 각 그레디언트의 반대방향의 합으로 가중치를 업데이트합니다.  \n",
    "각각은 정반대 역할을 합니다.  \n",
    "기존 손실함수의 그레디언트의 반대방향으로 업데이트하면 신경망은 훈련데이터의 정보를 더 담아냅니다.  \n",
    "$L^2$-페널티의 그레디언트의 반대방향 업데이트는 신경망의 가중치를 비슷하게 만드려는 경향이 있습니다.  \n",
    "이는 습득한 정보를 뭉게버리는 효과가 있습니다.  \n",
    "케라스에서는 [tf.keras.regularizers.L2](https://www.tensorflow.org/api_docs/python/tf/keras/regularizers/L2)를 통해 구현되어 있습니다.  \n",
    "[Dense](https://www.tensorflow.org/api_docs/python/tf/keras/layers/Dense) 클래스에서 인수로 설정할 수 있습니다."
   ]
  },
  {
   "cell_type": "code",
   "execution_count": 10,
   "id": "cbaae1e8",
   "metadata": {},
   "outputs": [
    {
     "name": "stdout",
     "output_type": "stream",
     "text": [
      "Epoch 1/20\n",
      "30/30 [==============================] - 2s 39ms/step - loss: 0.5970 - accuracy: 0.7797 - val_loss: 0.4671 - val_accuracy: 0.8637\n",
      "Epoch 2/20\n",
      "30/30 [==============================] - 1s 19ms/step - loss: 0.4032 - accuracy: 0.8935 - val_loss: 0.3904 - val_accuracy: 0.8873\n",
      "Epoch 3/20\n",
      "30/30 [==============================] - 1s 18ms/step - loss: 0.3369 - accuracy: 0.9159 - val_loss: 0.3739 - val_accuracy: 0.8847\n",
      "Epoch 4/20\n",
      "30/30 [==============================] - 1s 18ms/step - loss: 0.3063 - accuracy: 0.9250 - val_loss: 0.3652 - val_accuracy: 0.8875\n",
      "Epoch 5/20\n",
      "30/30 [==============================] - 1s 18ms/step - loss: 0.2831 - accuracy: 0.9331 - val_loss: 0.3629 - val_accuracy: 0.8863\n",
      "Epoch 6/20\n",
      "30/30 [==============================] - 1s 18ms/step - loss: 0.2731 - accuracy: 0.9340 - val_loss: 0.3727 - val_accuracy: 0.8831\n",
      "Epoch 7/20\n",
      "30/30 [==============================] - 1s 17ms/step - loss: 0.2641 - accuracy: 0.9364 - val_loss: 0.3732 - val_accuracy: 0.8826\n",
      "Epoch 8/20\n",
      "30/30 [==============================] - 1s 18ms/step - loss: 0.2507 - accuracy: 0.9430 - val_loss: 0.3670 - val_accuracy: 0.8831\n",
      "Epoch 9/20\n",
      "30/30 [==============================] - 1s 18ms/step - loss: 0.2462 - accuracy: 0.9438 - val_loss: 0.3787 - val_accuracy: 0.8797\n",
      "Epoch 10/20\n",
      "30/30 [==============================] - 1s 18ms/step - loss: 0.2395 - accuracy: 0.9470 - val_loss: 0.3751 - val_accuracy: 0.8817\n",
      "Epoch 11/20\n",
      "30/30 [==============================] - 1s 18ms/step - loss: 0.2306 - accuracy: 0.9497 - val_loss: 0.3779 - val_accuracy: 0.8813\n",
      "Epoch 12/20\n",
      "30/30 [==============================] - 1s 17ms/step - loss: 0.2374 - accuracy: 0.9461 - val_loss: 0.3860 - val_accuracy: 0.8805\n",
      "Epoch 13/20\n",
      "30/30 [==============================] - 1s 18ms/step - loss: 0.2270 - accuracy: 0.9530 - val_loss: 0.3856 - val_accuracy: 0.8801\n",
      "Epoch 14/20\n",
      "30/30 [==============================] - 1s 18ms/step - loss: 0.2204 - accuracy: 0.9539 - val_loss: 0.3873 - val_accuracy: 0.8799\n",
      "Epoch 15/20\n",
      "30/30 [==============================] - 1s 18ms/step - loss: 0.2206 - accuracy: 0.9529 - val_loss: 0.4014 - val_accuracy: 0.8766\n",
      "Epoch 16/20\n",
      "30/30 [==============================] - 1s 18ms/step - loss: 0.2159 - accuracy: 0.9541 - val_loss: 0.4259 - val_accuracy: 0.8697\n",
      "Epoch 17/20\n",
      "30/30 [==============================] - 1s 18ms/step - loss: 0.2132 - accuracy: 0.9548 - val_loss: 0.4006 - val_accuracy: 0.8773\n",
      "Epoch 18/20\n",
      "30/30 [==============================] - 1s 17ms/step - loss: 0.2097 - accuracy: 0.9589 - val_loss: 0.4485 - val_accuracy: 0.8643\n",
      "Epoch 19/20\n",
      "30/30 [==============================] - 1s 18ms/step - loss: 0.2120 - accuracy: 0.9569 - val_loss: 0.4137 - val_accuracy: 0.8757\n",
      "Epoch 20/20\n",
      "30/30 [==============================] - 1s 18ms/step - loss: 0.2043 - accuracy: 0.9598 - val_loss: 0.4354 - val_accuracy: 0.8717\n"
     ]
    }
   ],
   "source": [
    "from tensorflow.keras import regularizers\n",
    "\n",
    "l2_model = keras.Sequential([\n",
    "    Dense(16, kernel_regularizer=regularizers.l2(0.002), activation=\"relu\"),\n",
    "    Dense(16, kernel_regularizer=regularizers.l2(0.002), activation=\"relu\"),\n",
    "    Dense(1, activation=\"sigmoid\")])\n",
    "\n",
    "l2_model.compile(optimizer=\"rmsprop\",\n",
    "              loss=\"binary_crossentropy\",\n",
    "              metrics=\"accuracy\")\n",
    "\n",
    "l2_model_hist = l2_model.fit(\n",
    "    train_data, train_labels,\n",
    "    epochs=20, batch_size=512, validation_split=0.4)"
   ]
  },
  {
   "cell_type": "markdown",
   "id": "8c0413ea",
   "metadata": {},
   "source": [
    "$L^2$-규제된 신경망은 학습데이터의 손실함수값이 일정 수준 이하로는 내려오질 않네요."
   ]
  },
  {
   "cell_type": "code",
   "execution_count": 11,
   "id": "6f99d808",
   "metadata": {},
   "outputs": [
    {
     "data": {
      "image/png": "[encoded data removed]",
      "text/plain": [
       "<Figure size 432x288 with 1 Axes>"
      ]
     },
     "metadata": {
      "needs_background": "light"
     },
     "output_type": "display_data"
    }
   ],
   "source": [
    "l2_model_loss = l2_model_hist.history['loss']\n",
    "\n",
    "plt.plot(epochs, original_train_loss, 'b+', label='Original model')\n",
    "plt.plot(epochs, l2_model_loss, 'bo', label='L2-regularized model')\n",
    "plt.xlabel('Epochs')\n",
    "plt.ylabel('Training loss')\n",
    "plt.legend()\n",
    "\n",
    "plt.show()"
   ]
  },
  {
   "cell_type": "markdown",
   "id": "65ee2ce9",
   "metadata": {},
   "source": [
    "$L^2$-규제된 신경망은 과적합이 억제되고 있습니다."
   ]
  },
  {
   "cell_type": "code",
   "execution_count": 12,
   "id": "6358355c",
   "metadata": {},
   "outputs": [
    {
     "data": {
      "image/png": "[encoded data removed]",
      "text/plain": [
       "<Figure size 432x288 with 1 Axes>"
      ]
     },
     "metadata": {
      "needs_background": "light"
     },
     "output_type": "display_data"
    }
   ],
   "source": [
    "l2_model_val_loss = l2_model_hist.history['val_loss']\n",
    "\n",
    "plt.plot(epochs, original_val_loss, 'b+', label='Original model')\n",
    "plt.plot(epochs, l2_model_val_loss, 'bo', label='L2-regularized model')\n",
    "plt.xlabel('Epochs')\n",
    "plt.ylabel('Validation loss')\n",
    "plt.legend()\n",
    "\n",
    "plt.show()"
   ]
  },
  {
   "cell_type": "markdown",
   "id": "739e593e",
   "metadata": {},
   "source": [
    "**[실습1] (10분) 가중치 감소 계수 $\\lambda$를 약하게 $0.0002$로 잡은 모델과 강하게 $0.02$로 잡은 모델을 학습시키고 검증데이터의 손실함수 히스토리를 그래프로 그리시오.**"
   ]
  },
  {
   "cell_type": "code",
   "execution_count": 13,
   "id": "e142c2b1",
   "metadata": {},
   "outputs": [
    {
     "data": {
      "image/png": "[encoded data removed]",
      "text/plain": [
       "<Figure size 432x288 with 1 Axes>"
      ]
     },
     "metadata": {
      "needs_background": "light"
     },
     "output_type": "display_data"
    }
   ],
   "source": [
    "weak_l2_model = keras.Sequential([\n",
    "    Dense(16, kernel_regularizer=regularizers.l2(0.0002), activation=\"relu\"),\n",
    "    Dense(16, kernel_regularizer=regularizers.l2(0.0002), activation=\"relu\"),\n",
    "    Dense(1, activation=\"sigmoid\")])\n",
    "\n",
    "weak_l2_model.compile(optimizer=\"rmsprop\",\n",
    "              loss=\"binary_crossentropy\",\n",
    "              metrics=\"accuracy\")\n",
    "\n",
    "weak_l2_model_hist = weak_l2_model.fit(\n",
    "    train_data, train_labels,\n",
    "    epochs=20, batch_size=512, validation_split=0.4, verbose=0)\n",
    "\n",
    "weak_l2_model_val_loss = weak_l2_model_hist.history['val_loss']\n",
    "\n",
    "strong_l2_model = keras.Sequential([\n",
    "    Dense(16, kernel_regularizer=regularizers.l2(0.02), activation=\"relu\"),\n",
    "    Dense(16, kernel_regularizer=regularizers.l2(0.02), activation=\"relu\"),\n",
    "    Dense(1, activation=\"sigmoid\")])\n",
    "\n",
    "strong_l2_model.compile(optimizer=\"rmsprop\",\n",
    "              loss=\"binary_crossentropy\",\n",
    "              metrics=\"accuracy\")\n",
    "\n",
    "strong_l2_model_hist = strong_l2_model.fit(\n",
    "    train_data, train_labels,\n",
    "    epochs=20, batch_size=512, validation_split=0.4, verbose=0)\n",
    "\n",
    "strong_l2_model_val_loss = strong_l2_model_hist.history['val_loss']\n",
    "\n",
    "plt.plot(epochs, weak_l2_model_val_loss, 'b+', label='Weakly L2-regularized model')\n",
    "plt.plot(epochs, strong_l2_model_val_loss, 'bo', label='Strongly L2-regularized model')\n",
    "\n",
    "plt.xlabel('Epochs')\n",
    "plt.ylabel('Validation loss')\n",
    "plt.legend()\n",
    "\n",
    "plt.show()"
   ]
  },
  {
   "cell_type": "markdown",
   "id": "b5456737",
   "metadata": {},
   "source": [
    "# $L^1$-규제 ($L^1$-regularization)"
   ]
  },
  {
   "cell_type": "markdown",
   "id": "dfebebcf",
   "metadata": {},
   "source": [
    "[딥러닝II](https://youtu.be/7wv1sjqS5IE?t=1949)에서 $L^1$-규제에 대해 공부했습니다.  \n",
    "기존 손실함수에 $L^1$ 페널티 ${1 \\over 2} \\times \\lambda \\times \\sum |w_{i,j}|$를 더합니다.  \n",
    "여기서 $w_{i,j}$는 모든 가중치를 뜻합니다.  \n",
    "가중치 감소 계수 $\\lambda$는 직접 설정해야 하는 하이퍼 파라미터입니다.  \n",
    "크게 잡으면 페널티가 큰 역할을 하고 작게 잡으면 페널티 역할이 작아집니다.  \n",
    "미분은 선형이기 때문에 새로운 손실함수의 그레디언트는 기존 손실함수의 그레디언트와 페널티의 그레디언트를 합한 것과 같습니다.  \n",
    "경사하강법을 적용하면 각 그레디언트의 반대방향의 합으로 가중치를 업데이트합니다.  \n",
    "각각은 정반대 역할을 합니다.  \n",
    "기존 손실함수의 그레디언트의 반대방향으로 업데이트하면 신경망은 훈련데이터의 정보를 더 담아냅니다.  \n",
    "$L^1$-페널티의 그레디언트의 반대방향 업데이트는 절대값이 작은 가중치를 아예 없애버리려는 경향이 있습니다.  \n",
    "이는 습득한 정보를 뭉게버리는 효과가 있습니다.  \n",
    "케라스에서는 [tf.keras.regularizers.L1](https://www.tensorflow.org/api_docs/python/tf/keras/regularizers/L1)를 통해 구현되어 있습니다.  \n",
    "[Dense](https://www.tensorflow.org/api_docs/python/tf/keras/layers/Dense) 클래스에서 인수로 설정할 수 있습니다."
   ]
  },
  {
   "cell_type": "code",
   "execution_count": 14,
   "id": "1c9affbd",
   "metadata": {},
   "outputs": [
    {
     "name": "stdout",
     "output_type": "stream",
     "text": [
      "Epoch 1/20\n",
      "30/30 [==============================] - 2s 37ms/step - loss: 1.0994 - accuracy: 0.7009 - val_loss: 0.7388 - val_accuracy: 0.7696\n",
      "Epoch 2/20\n",
      "30/30 [==============================] - 1s 18ms/step - loss: 0.6933 - accuracy: 0.8274 - val_loss: 0.6885 - val_accuracy: 0.8291\n",
      "Epoch 3/20\n",
      "30/30 [==============================] - 1s 19ms/step - loss: 0.6393 - accuracy: 0.8485 - val_loss: 0.6211 - val_accuracy: 0.8584\n",
      "Epoch 4/20\n",
      "30/30 [==============================] - 1s 18ms/step - loss: 0.6044 - accuracy: 0.8563 - val_loss: 0.5968 - val_accuracy: 0.8608\n",
      "Epoch 5/20\n",
      "30/30 [==============================] - 1s 18ms/step - loss: 0.5804 - accuracy: 0.8625 - val_loss: 0.5827 - val_accuracy: 0.8604\n",
      "Epoch 6/20\n",
      "30/30 [==============================] - 1s 18ms/step - loss: 0.5699 - accuracy: 0.8620 - val_loss: 0.5727 - val_accuracy: 0.8619\n",
      "Epoch 7/20\n",
      "30/30 [==============================] - 1s 18ms/step - loss: 0.5568 - accuracy: 0.8662 - val_loss: 0.5679 - val_accuracy: 0.8621\n",
      "Epoch 8/20\n",
      "30/30 [==============================] - 1s 17ms/step - loss: 0.5424 - accuracy: 0.8707 - val_loss: 0.6538 - val_accuracy: 0.8090\n",
      "Epoch 9/20\n",
      "30/30 [==============================] - 1s 18ms/step - loss: 0.5449 - accuracy: 0.8679 - val_loss: 0.5514 - val_accuracy: 0.8650\n",
      "Epoch 10/20\n",
      "30/30 [==============================] - 1s 18ms/step - loss: 0.5365 - accuracy: 0.8683 - val_loss: 0.5564 - val_accuracy: 0.8551\n",
      "Epoch 11/20\n",
      "30/30 [==============================] - 1s 18ms/step - loss: 0.5339 - accuracy: 0.8703 - val_loss: 0.5416 - val_accuracy: 0.8642\n",
      "Epoch 12/20\n",
      "30/30 [==============================] - 1s 18ms/step - loss: 0.5310 - accuracy: 0.8743 - val_loss: 0.5527 - val_accuracy: 0.8630\n",
      "Epoch 13/20\n",
      "30/30 [==============================] - 1s 18ms/step - loss: 0.5278 - accuracy: 0.8720 - val_loss: 0.5871 - val_accuracy: 0.8443\n",
      "Epoch 14/20\n",
      "30/30 [==============================] - 1s 18ms/step - loss: 0.5187 - accuracy: 0.8751 - val_loss: 0.5871 - val_accuracy: 0.8386\n",
      "Epoch 15/20\n",
      "30/30 [==============================] - 1s 18ms/step - loss: 0.5263 - accuracy: 0.8751 - val_loss: 0.5342 - val_accuracy: 0.8679\n",
      "Epoch 16/20\n",
      "30/30 [==============================] - 1s 18ms/step - loss: 0.5186 - accuracy: 0.8750 - val_loss: 0.5387 - val_accuracy: 0.8659\n",
      "Epoch 17/20\n",
      "30/30 [==============================] - 1s 17ms/step - loss: 0.5115 - accuracy: 0.8817 - val_loss: 0.6338 - val_accuracy: 0.8201\n",
      "Epoch 18/20\n",
      "30/30 [==============================] - 1s 18ms/step - loss: 0.5166 - accuracy: 0.8780 - val_loss: 0.5320 - val_accuracy: 0.8666\n",
      "Epoch 19/20\n",
      "30/30 [==============================] - 1s 18ms/step - loss: 0.5117 - accuracy: 0.8774 - val_loss: 0.5587 - val_accuracy: 0.8564\n",
      "Epoch 20/20\n",
      "30/30 [==============================] - 1s 18ms/step - loss: 0.5075 - accuracy: 0.8821 - val_loss: 0.5259 - val_accuracy: 0.8707\n"
     ]
    }
   ],
   "source": [
    "l1_model = keras.Sequential([\n",
    "    Dense(16, kernel_regularizer=regularizers.l1(0.001), activation=\"relu\"),\n",
    "    Dense(16, kernel_regularizer=regularizers.l1(0.001), activation=\"relu\"),\n",
    "    Dense(1, activation=\"sigmoid\")])\n",
    "\n",
    "l1_model.compile(optimizer=\"rmsprop\",\n",
    "              loss=\"binary_crossentropy\",\n",
    "              metrics=\"accuracy\")\n",
    "\n",
    "l1_model_hist = l1_model.fit(\n",
    "    train_data, train_labels,\n",
    "    epochs=20, batch_size=512, validation_split=0.4)"
   ]
  },
  {
   "cell_type": "markdown",
   "id": "0479f31e",
   "metadata": {},
   "source": [
    "**[실습2] (5분) 기본 신경망과 $L^1$-규제된 신경망의 훈련데이터에 대한 손실함수값 히스토리를 그래프로 그리시오.**"
   ]
  },
  {
   "cell_type": "code",
   "execution_count": 15,
   "id": "f4ef9496",
   "metadata": {},
   "outputs": [
    {
     "data": {
      "image/png": "[encoded data removed]",
      "text/plain": [
       "<Figure size 432x288 with 1 Axes>"
      ]
     },
     "metadata": {
      "needs_background": "light"
     },
     "output_type": "display_data"
    }
   ],
   "source": [
    "l1_model_loss = l1_model_hist.history['loss']\n",
    "\n",
    "plt.plot(epochs, original_train_loss, 'b+', label='Original model')\n",
    "plt.plot(epochs, l1_model_loss, 'bo', label='L1-regularized model')\n",
    "plt.xlabel('Epochs')\n",
    "plt.ylabel('Training loss')\n",
    "plt.legend()\n",
    "\n",
    "plt.show()"
   ]
  },
  {
   "cell_type": "markdown",
   "id": "879f96de",
   "metadata": {},
   "source": [
    "**[실습3] (5분) 기본 신경망과 $L^1$-규제된 신경망의 검증데이터에 대한 손실함수값 히스토리를 그래프로 그리시오.**"
   ]
  },
  {
   "cell_type": "code",
   "execution_count": 16,
   "id": "ff5e6c2a",
   "metadata": {},
   "outputs": [
    {
     "data": {
      "image/png": "[encoded data removed]",
      "text/plain": [
       "<Figure size 432x288 with 1 Axes>"
      ]
     },
     "metadata": {
      "needs_background": "light"
     },
     "output_type": "display_data"
    }
   ],
   "source": [
    "l1_model_val_loss = l1_model_hist.history['val_loss']\n",
    "\n",
    "plt.plot(epochs, original_val_loss, 'b+', label='Original model')\n",
    "plt.plot(epochs, l1_model_val_loss, 'bo', label='L1-regularized model')\n",
    "plt.xlabel('Epochs')\n",
    "plt.ylabel('Validation loss')\n",
    "plt.legend()\n",
    "\n",
    "plt.show()"
   ]
  },
  {
   "cell_type": "markdown",
   "id": "35037841",
   "metadata": {},
   "source": [
    "# Dropout"
   ]
  },
  {
   "cell_type": "markdown",
   "id": "540e82c1",
   "metadata": {},
   "source": [
    "[딥러닝II](https://youtu.be/7wv1sjqS5IE?t=3326)에서 공부한 dropout을 케라스로 구현하겠습니다.  \n",
    "dropout은 학습 데이터가 들어올때마다 무작위로 뉴런을 삭제해서 신호전달을 차단하는 기법입니다.  \n",
    "이상해보이지만 과적합 억제를 위해 매우 많이 사용되는 기법입니다.  \n",
    "케라스에는 [Dropout층](https://www.tensorflow.org/api_docs/python/tf/keras/layers/Dropout)이 구현되어 있습니다.  \n",
    "몇 퍼센트를 삭제할지 인수로 지정해 줍니다.  \n",
    "![](https://drive.google.com/uc?id=1wPtyMrgWXGxiJp0YofJPGlYDDE94uoX-)"
   ]
  },
  {
   "cell_type": "code",
   "execution_count": 17,
   "id": "07b8c505",
   "metadata": {},
   "outputs": [
    {
     "name": "stdout",
     "output_type": "stream",
     "text": [
      "Epoch 1/20\n",
      "30/30 [==============================] - 2s 39ms/step - loss: 0.6392 - accuracy: 0.6299 - val_loss: 0.5550 - val_accuracy: 0.8005\n",
      "Epoch 2/20\n",
      "30/30 [==============================] - 1s 18ms/step - loss: 0.5264 - accuracy: 0.7562 - val_loss: 0.4322 - val_accuracy: 0.8700\n",
      "Epoch 3/20\n",
      "30/30 [==============================] - 1s 18ms/step - loss: 0.4472 - accuracy: 0.8178 - val_loss: 0.3710 - val_accuracy: 0.8721\n",
      "Epoch 4/20\n",
      "30/30 [==============================] - 1s 19ms/step - loss: 0.3831 - accuracy: 0.8552 - val_loss: 0.3359 - val_accuracy: 0.8734\n",
      "Epoch 5/20\n",
      "30/30 [==============================] - 1s 18ms/step - loss: 0.3306 - accuracy: 0.8819 - val_loss: 0.2923 - val_accuracy: 0.8916\n",
      "Epoch 6/20\n",
      "30/30 [==============================] - 1s 18ms/step - loss: 0.2865 - accuracy: 0.9020 - val_loss: 0.2794 - val_accuracy: 0.8908\n",
      "Epoch 7/20\n",
      "30/30 [==============================] - 1s 18ms/step - loss: 0.2507 - accuracy: 0.9149 - val_loss: 0.2863 - val_accuracy: 0.8921\n",
      "Epoch 8/20\n",
      "30/30 [==============================] - 1s 18ms/step - loss: 0.2203 - accuracy: 0.9259 - val_loss: 0.3230 - val_accuracy: 0.8870\n",
      "Epoch 9/20\n",
      "30/30 [==============================] - 1s 18ms/step - loss: 0.2006 - accuracy: 0.9347 - val_loss: 0.2949 - val_accuracy: 0.8903\n",
      "Epoch 10/20\n",
      "30/30 [==============================] - 1s 18ms/step - loss: 0.1769 - accuracy: 0.9461 - val_loss: 0.3305 - val_accuracy: 0.8907\n",
      "Epoch 11/20\n",
      "30/30 [==============================] - 1s 18ms/step - loss: 0.1627 - accuracy: 0.9493 - val_loss: 0.3276 - val_accuracy: 0.8911\n",
      "Epoch 12/20\n",
      "30/30 [==============================] - 1s 18ms/step - loss: 0.1423 - accuracy: 0.9559 - val_loss: 0.3762 - val_accuracy: 0.8891\n",
      "Epoch 13/20\n",
      "30/30 [==============================] - 1s 18ms/step - loss: 0.1299 - accuracy: 0.9601 - val_loss: 0.3892 - val_accuracy: 0.8883\n",
      "Epoch 14/20\n",
      "30/30 [==============================] - 1s 18ms/step - loss: 0.1172 - accuracy: 0.9633 - val_loss: 0.4131 - val_accuracy: 0.8868\n",
      "Epoch 15/20\n",
      "30/30 [==============================] - 1s 18ms/step - loss: 0.1047 - accuracy: 0.9677 - val_loss: 0.4301 - val_accuracy: 0.8816\n",
      "Epoch 16/20\n",
      "30/30 [==============================] - 1s 17ms/step - loss: 0.0961 - accuracy: 0.9683 - val_loss: 0.4627 - val_accuracy: 0.8858\n",
      "Epoch 17/20\n",
      "30/30 [==============================] - 1s 18ms/step - loss: 0.0919 - accuracy: 0.9703 - val_loss: 0.4840 - val_accuracy: 0.8850\n",
      "Epoch 18/20\n",
      "30/30 [==============================] - 1s 18ms/step - loss: 0.0884 - accuracy: 0.9715 - val_loss: 0.5580 - val_accuracy: 0.8810\n",
      "Epoch 19/20\n",
      "30/30 [==============================] - 1s 18ms/step - loss: 0.0809 - accuracy: 0.9739 - val_loss: 0.5381 - val_accuracy: 0.8856\n",
      "Epoch 20/20\n",
      "30/30 [==============================] - 1s 17ms/step - loss: 0.0743 - accuracy: 0.9762 - val_loss: 0.5664 - val_accuracy: 0.8859\n"
     ]
    },
    {
     "data": {
      "image/png": "[encoded data removed]",
      "text/plain": [
       "<IPython.core.display.Image object>"
      ]
     },
     "execution_count": 17,
     "metadata": {},
     "output_type": "execute_result"
    }
   ],
   "source": [
    "from tensorflow.keras.utils import plot_model\n",
    "from keras.layers import Dropout\n",
    "\n",
    "dropout_model = keras.Sequential([\n",
    "    Dense(16, input_shape=(10000,), activation=\"relu\"),\n",
    "    Dropout(0.5),\n",
    "    Dense(16, activation=\"relu\"),\n",
    "    Dropout(0.5),\n",
    "    Dense(1, activation=\"sigmoid\")])\n",
    "\n",
    "dropout_model.compile(optimizer=\"rmsprop\",\n",
    "              loss=\"binary_crossentropy\",\n",
    "              metrics=\"accuracy\")\n",
    "\n",
    "dropout_model_hist = dropout_model.fit(\n",
    "    train_data, train_labels,\n",
    "    epochs=20, batch_size=512, validation_split=0.4)\n",
    "\n",
    "plot_model(dropout_model, show_shapes=True, show_layer_activations=True)"
   ]
  },
  {
   "cell_type": "markdown",
   "id": "6f753bc9",
   "metadata": {},
   "source": [
    "dropout층이 추가된 신경망은 학습데이터의 손실함수값이 천천히 떨어지네요."
   ]
  },
  {
   "cell_type": "code",
   "execution_count": 18,
   "id": "ccf6762d",
   "metadata": {},
   "outputs": [
    {
     "data": {
      "image/png": "[encoded data removed]",
      "text/plain": [
       "<Figure size 432x288 with 1 Axes>"
      ]
     },
     "metadata": {
      "needs_background": "light"
     },
     "output_type": "display_data"
    }
   ],
   "source": [
    "dropout_model_loss = dropout_model_hist.history['loss']\n",
    "\n",
    "plt.plot(epochs, original_train_loss, 'b+', label='Original model')\n",
    "plt.plot(epochs, dropout_model_loss, 'bo', label='Dropout-regularized model')\n",
    "plt.xlabel('Epochs')\n",
    "plt.ylabel('Training loss')\n",
    "plt.legend()\n",
    "\n",
    "plt.show()"
   ]
  },
  {
   "cell_type": "markdown",
   "id": "f7997b56",
   "metadata": {},
   "source": [
    "dropout층이 추가된 신경망은 과적합이 늦게 시작되고 더 완만하게 진행됩니다."
   ]
  },
  {
   "cell_type": "code",
   "execution_count": 19,
   "id": "27f7b3e3",
   "metadata": {},
   "outputs": [
    {
     "data": {
      "image/png": "[encoded data removed]",
      "text/plain": [
       "<Figure size 432x288 with 1 Axes>"
      ]
     },
     "metadata": {
      "needs_background": "light"
     },
     "output_type": "display_data"
    }
   ],
   "source": [
    "dropout_model_val_loss = dropout_model_hist.history['val_loss']\n",
    "\n",
    "plt.plot(epochs, original_val_loss, 'b+', label='Original model')\n",
    "plt.plot(epochs, dropout_model_val_loss, 'bo', label='Dropout-regularized model')\n",
    "plt.xlabel('Epochs')\n",
    "plt.ylabel('Validation loss')\n",
    "plt.legend()\n",
    "\n",
    "plt.show()"
   ]
  },
  {
   "cell_type": "markdown",
   "id": "2c9778cb",
   "metadata": {},
   "source": [
    "**[실습4] (10분) dropout 비율을 약하게 $0.2$로 잡은 모델과 강하게 $0.8$로 잡은 모델을 학습시키고 검증데이터의 손실함수 히스토리를 그래프로 그리시오.**"
   ]
  },
  {
   "cell_type": "code",
   "execution_count": 20,
   "id": "42b8820b",
   "metadata": {},
   "outputs": [
    {
     "data": {
      "image/png": "[encoded data removed]",
      "text/plain": [
       "<Figure size 432x288 with 1 Axes>"
      ]
     },
     "metadata": {
      "needs_background": "light"
     },
     "output_type": "display_data"
    }
   ],
   "source": [
    "weak_dropout_model = keras.Sequential([\n",
    "    Dense(16, activation=\"relu\"),\n",
    "    Dropout(0.2),\n",
    "    Dense(16, activation=\"relu\"),\n",
    "    Dropout(0.2),\n",
    "    Dense(1, activation=\"sigmoid\")])\n",
    "\n",
    "weak_dropout_model.compile(optimizer=\"rmsprop\",\n",
    "              loss=\"binary_crossentropy\",\n",
    "              metrics=\"accuracy\")\n",
    "\n",
    "weak_dropout_model_hist = weak_dropout_model.fit(\n",
    "    train_data, train_labels,\n",
    "    epochs=20, batch_size=512, validation_split=0.4, verbose=0)\n",
    "\n",
    "strong_dropout_model = keras.Sequential([\n",
    "    Dense(16, activation=\"relu\"),\n",
    "    Dropout(0.8),\n",
    "    Dense(16, activation=\"relu\"),\n",
    "    Dropout(0.8),\n",
    "    Dense(1, activation=\"sigmoid\")])\n",
    "\n",
    "strong_dropout_model.compile(optimizer=\"rmsprop\",\n",
    "              loss=\"binary_crossentropy\",\n",
    "              metrics=\"accuracy\")\n",
    "\n",
    "strong_dropout_model_hist = strong_dropout_model.fit(\n",
    "    train_data, train_labels,\n",
    "    epochs=20, batch_size=512, validation_split=0.4, verbose=0)\n",
    "\n",
    "weak_dropout_model_val_loss = weak_dropout_model_hist.history['val_loss']\n",
    "strong_dropout_model_val_loss = strong_dropout_model_hist.history['val_loss']\n",
    "\n",
    "plt.plot(epochs, weak_dropout_model_val_loss, 'b+', label='Weakly dropout-regularized model')\n",
    "plt.plot(epochs, strong_dropout_model_val_loss, 'bo', label='Strongly dropout-regularized model')\n",
    "plt.xlabel('Epochs')\n",
    "plt.ylabel('Validation loss')\n",
    "plt.legend()\n",
    "\n",
    "plt.show()"
   ]
  }
 ],
 "metadata": {
  "kernelspec": {
   "display_name": "Python 3 (ipykernel)",
   "language": "python",
   "name": "python3"
  },
  "language_info": {
   "codemirror_mode": {
    "name": "ipython",
    "version": 3
   },
   "file_extension": ".py",
   "mimetype": "text/x-python",
   "name": "python",
   "nbconvert_exporter": "python",
   "pygments_lexer": "ipython3",
   "version": "3.9.12"
  }
 },
 "nbformat": 4,
 "nbformat_minor": 5
}
